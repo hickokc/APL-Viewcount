{
 "cells": [
  {
   "cell_type": "code",
   "execution_count": 1,
   "metadata": {
    "collapsed": true
   },
   "outputs": [],
   "source": [
    "from bs4 import BeautifulSoup as bs\n",
    "import urllib2\n",
    "import requests\n",
    "import re\n",
    "import datetime as dt\n",
    "import csv\n",
    "from apscheduler.schedulers.blocking import BlockingScheduler"
   ]
  },
  {
   "cell_type": "code",
   "execution_count": 2,
   "metadata": {
    "collapsed": true
   },
   "outputs": [],
   "source": [
    "def csv_writer(data, path):\n",
    "  \n",
    "        with open(path, \"a\") as csv_file:\n",
    "            writer = csv.writer(csv_file, delimiter=',')\n",
    "            writer.writerow(data)"
   ]
  },
  {
   "cell_type": "code",
   "execution_count": 3,
   "metadata": {
    "collapsed": true
   },
   "outputs": [],
   "source": [
    "def dupe_delete(seq):\n",
    "    seen = set()\n",
    "    seen_add = seen.add\n",
    "    return [x for x in seq if not (x in seen or seen_add(x))]"
   ]
  },
  {
   "cell_type": "code",
   "execution_count": 24,
   "metadata": {
    "collapsed": false
   },
   "outputs": [],
   "source": [
    "def view_extractor(url,title):\n",
    "    \n",
    "    #url=\"https://www.youtube.com/watch?v=1nCLBTmjJBY\"\n",
    "    page = urllib2.urlopen(url)\n",
    "    data = page.read()\n",
    "    soup = bs(data, 'html.parser')\n",
    "    \n",
    "    s = soup.find_all(\"script\")   #searching by script, \n",
    "    scripts = []\n",
    "\n",
    "    for x in s:\n",
    "        scripts.append(str(x))   #apparently view count is in a script. String because it's all alphanumeric crap\n",
    "    \n",
    "    views = []\n",
    "    \n",
    "    for line in scripts:\n",
    "        m = re.search('view_count(.+?),', line)   #this was picked up from stackexchange, very handy\n",
    "        if m:\n",
    "            found = m.group(1)\n",
    "            views.append(found)\n",
    "    vcount = views[0]\n",
    "    vstr = vcount.strip('\\\":\\'').split()\n",
    "    count = int(vstr[0])  #convert the string into an integer\n",
    "    \n",
    "    #timestamp\n",
    "    d = dt.datetime.now()    \n",
    "    timestamp = dt.datetime.strftime(d, '%H:%M:%S')\n",
    "    datestamp = dt.datetime.strftime(d, '%m/%d/%y')\n",
    "\n",
    "    #Views, Date, Time are distinct columns\n",
    "    dater = (count,datestamp,timestamp)\n",
    "    data = list(dater)\n",
    "    \n",
    "    \n",
    "\n",
    "    csv_writer(data, title)\n",
    "    print('Iteration complete:',datestamp,timestamp)"
   ]
  },
  {
   "cell_type": "code",
   "execution_count": 8,
   "metadata": {
    "collapsed": false
   },
   "outputs": [],
   "source": [
    "def searcher():\n",
    "    x = raw_input(\"Enter keyword:\")\n",
    "    l = str(x)\n",
    "    ur = 'https://www.youtube.com/results?search_query='\n",
    "    url = ur+l\n",
    "    \n",
    "    r = requests.get(url)\n",
    "    data = r.text\n",
    "    \n",
    "    links = []\n",
    "    soup = bs(data, 'lxml')\n",
    "    for link in soup.find_all('a'):\n",
    "        listy = link.get('href')\n",
    "        links.append(listy)\n",
    "    \n",
    "    linklist= []\n",
    "    for element in links:\n",
    "        item = [element for element in links if '/watch?v=' in element]\n",
    "        linklist = item\n",
    "        \n",
    "    uniques = dupe_delete(linklist)\n",
    "    return uniques"
   ]
  },
  {
   "cell_type": "code",
   "execution_count": 16,
   "metadata": {
    "collapsed": false
   },
   "outputs": [
    {
     "name": "stdout",
     "output_type": "stream",
     "text": [
      "Enter keyword:4minute\n"
     ]
    }
   ],
   "source": [
    "videos = searcher()"
   ]
  },
  {
   "cell_type": "code",
   "execution_count": 37,
   "metadata": {
    "collapsed": false
   },
   "outputs": [],
   "source": [
    "url = 'https://www.youtube.com/watch?v=1nCLBTmjJBY'"
   ]
  },
  {
   "cell_type": "code",
   "execution_count": 42,
   "metadata": {
    "collapsed": false
   },
   "outputs": [
    {
     "name": "stdout",
     "output_type": "stream",
     "text": [
      "('Iteration complete:', '11/24/17', '13:56:53')\n"
     ]
    }
   ],
   "source": [
    "view_extractor(url,'test124')"
   ]
  },
  {
   "cell_type": "code",
   "execution_count": null,
   "metadata": {
    "collapsed": true
   },
   "outputs": [],
   "source": []
  }
 ],
 "metadata": {
  "kernelspec": {
   "display_name": "Python 2",
   "language": "python",
   "name": "python2"
  },
  "language_info": {
   "codemirror_mode": {
    "name": "ipython",
    "version": 2
   },
   "file_extension": ".py",
   "mimetype": "text/x-python",
   "name": "python",
   "nbconvert_exporter": "python",
   "pygments_lexer": "ipython2",
   "version": "2.7.13"
  }
 },
 "nbformat": 4,
 "nbformat_minor": 2
}
