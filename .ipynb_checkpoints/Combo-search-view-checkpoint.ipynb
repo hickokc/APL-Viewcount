{
 "cells": [
  {
   "cell_type": "code",
   "execution_count": 1,
   "metadata": {
    "collapsed": true
   },
   "outputs": [],
   "source": [
    "from bs4 import BeautifulSoup as bs\n",
    "import urllib2\n",
    "import requests\n",
    "import re\n",
    "import datetime as dt\n",
    "import csv"
   ]
  },
  {
   "cell_type": "code",
   "execution_count": 2,
   "metadata": {
    "collapsed": false
   },
   "outputs": [
    {
     "name": "stdout",
     "output_type": "stream",
     "text": [
      "Enter keyword: 4minute\n"
     ]
    }
   ],
   "source": [
    "x = raw_input(\"Enter keyword: \")"
   ]
  },
  {
   "cell_type": "code",
   "execution_count": 3,
   "metadata": {
    "collapsed": false
   },
   "outputs": [],
   "source": [
    "l = str(x)\n",
    "ur = 'https://www.youtube.com/results?search_query='\n",
    "url = ur+l"
   ]
  },
  {
   "cell_type": "code",
   "execution_count": 4,
   "metadata": {
    "collapsed": false
   },
   "outputs": [],
   "source": [
    "r  = requests.get(url)\n",
    "data = r.text\n",
    "\n",
    "links = []\n",
    "\n",
    "soup = bs(data, 'lxml')\n",
    "for link in soup.find_all('a'):\n",
    "    listy = (link.get('href'))\n",
    "    links.append(listy)"
   ]
  },
  {
   "cell_type": "code",
   "execution_count": 9,
   "metadata": {
    "collapsed": false
   },
   "outputs": [],
   "source": [
    "linklist = []\n",
    "for element in links:\n",
    "    item = [element for element in links if '/watch?v=' in element]\n",
    "    linklist = item"
   ]
  },
  {
   "cell_type": "code",
   "execution_count": 10,
   "metadata": {
    "collapsed": true
   },
   "outputs": [],
   "source": [
    "#totally stolen from stack exchange:\n",
    "# remove duplicates\n",
    "\n",
    "def f7(seq):\n",
    "    seen = set()\n",
    "    seen_add = seen.add\n",
    "    return [x for x in seq if not (x in seen or seen_add(x))]"
   ]
  },
  {
   "cell_type": "code",
   "execution_count": 11,
   "metadata": {
    "collapsed": false
   },
   "outputs": [],
   "source": [
    "uniques = f7(linklist)"
   ]
  },
  {
   "cell_type": "code",
   "execution_count": 12,
   "metadata": {
    "collapsed": false
   },
   "outputs": [
    {
     "data": {
      "text/plain": [
       "['/watch?v=1nCLBTmjJBY',\n",
       " '/watch?v=D_F9HUTYnl0',\n",
       " '/watch?v=qsWl1--Niyg',\n",
       " '/watch?v=kRbIZtUS2Ag',\n",
       " '/watch?v=4xLFxfXWDUk',\n",
       " '/watch?v=H-IJWqIHioA',\n",
       " '/watch?v=DRSRpXPZVdM',\n",
       " '/watch?v=2qJPDmUhPIM',\n",
       " '/watch?v=aNYImwBU4f4',\n",
       " '/watch?v=9BPsQ7QeL44',\n",
       " '/watch?v=Do_pJSGhWVg',\n",
       " '/watch?v=RUY2riN9dCY',\n",
       " '/watch?v=ib_1ATfr8wM',\n",
       " '/watch?v=gy13NPM4rMs',\n",
       " '/watch?v=bXASUDvQTHw',\n",
       " '/watch?v=nPPKwg5eQ4o',\n",
       " '/watch?v=h97jt1XtnGQ',\n",
       " '/watch?v=ZT9zbZGB2gE',\n",
       " '/watch?v=1vbriUzsAxE',\n",
       " '/watch?v=1nCLBTmjJBY&list=RDEMd9931WQcz3yZQtOHcHMvMA',\n",
       " '/watch?v=1nCLBTmjJBY&list=PLRzGbn8ij74_iY3jnD3y1lSGYqlGhzgu1',\n",
       " '/watch?v=nPPKwg5eQ4o&list=PLRzGbn8ij74_iY3jnD3y1lSGYqlGhzgu1',\n",
       " '/watch?v=K75mypcWXak&list=PLRzGbn8ij74_iY3jnD3y1lSGYqlGhzgu1',\n",
       " '/watch?v=4xLFxfXWDUk&list=PLRzGbn8ij74_iY3jnD3y1lSGYqlGhzgu1',\n",
       " '/watch?v=H-IJWqIHioA&list=PLRzGbn8ij74_iY3jnD3y1lSGYqlGhzgu1',\n",
       " '/watch?v=qsWl1--Niyg&list=PLRzGbn8ij74_iY3jnD3y1lSGYqlGhzgu1',\n",
       " '/watch?v=kRbIZtUS2Ag&list=PLRzGbn8ij74_iY3jnD3y1lSGYqlGhzgu1',\n",
       " '/watch?v=1fOG_wcV_oU&list=PLRzGbn8ij74_iY3jnD3y1lSGYqlGhzgu1',\n",
       " '/watch?v=DRSRpXPZVdM&list=PLRzGbn8ij74_iY3jnD3y1lSGYqlGhzgu1',\n",
       " '/watch?v=aNYImwBU4f4&list=PLRzGbn8ij74_iY3jnD3y1lSGYqlGhzgu1']"
      ]
     },
     "execution_count": 12,
     "metadata": {},
     "output_type": "execute_result"
    }
   ],
   "source": [
    "uniques"
   ]
  },
  {
   "cell_type": "code",
   "execution_count": null,
   "metadata": {
    "collapsed": true
   },
   "outputs": [],
   "source": []
  }
 ],
 "metadata": {
  "kernelspec": {
   "display_name": "Python 2",
   "language": "python",
   "name": "python2"
  },
  "language_info": {
   "codemirror_mode": {
    "name": "ipython",
    "version": 2
   },
   "file_extension": ".py",
   "mimetype": "text/x-python",
   "name": "python",
   "nbconvert_exporter": "python",
   "pygments_lexer": "ipython2",
   "version": "2.7.13"
  }
 },
 "nbformat": 4,
 "nbformat_minor": 2
}
