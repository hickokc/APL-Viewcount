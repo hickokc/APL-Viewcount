{
 "cells": [
  {
   "cell_type": "code",
   "execution_count": 1,
   "metadata": {
    "collapsed": false
   },
   "outputs": [],
   "source": [
    "from bs4 import BeautifulSoup as bs\n",
    "import urllib2\n",
    "import requests\n",
    "import re\n",
    "import datetime as dt\n",
    "import csv\n",
    "from apscheduler.schedulers.blocking import BlockingScheduler"
   ]
  },
  {
   "cell_type": "code",
   "execution_count": 2,
   "metadata": {
    "collapsed": false
   },
   "outputs": [],
   "source": [
    "def csv_writer(data, path):\n",
    "  \n",
    "        with open(path, \"a\") as csv_file:\n",
    "            writer = csv.writer(csv_file, delimiter=',')\n",
    "            writer.writerow(data)"
   ]
  },
  {
   "cell_type": "code",
   "execution_count": 4,
   "metadata": {
    "collapsed": false
   },
   "outputs": [],
   "source": [
    "kount = 'View Count'\n",
    "date = 'Date'\n",
    "time = 'Time'\n",
    "\n",
    "test2 = (kount,date,time)\n",
    "test = list(test2)\n",
    "\n",
    "csv_writer(test,'4minute-Crazy.csv') #initialize column names"
   ]
  },
  {
   "cell_type": "code",
   "execution_count": 8,
   "metadata": {
    "collapsed": false
   },
   "outputs": [],
   "source": [
    "def view_extractor():\n",
    "    \n",
    "    url=\"https://www.youtube.com/watch?v=1nCLBTmjJBY\"\n",
    "    page = urllib2.urlopen(url)\n",
    "    data = page.read()\n",
    "    soup = bs(data, 'html.parser')\n",
    "    \n",
    "    s = soup.find_all(\"script\")   #searching by script, \n",
    "    scripts = []\n",
    "\n",
    "    for x in s:\n",
    "        scripts.append(str(x))   #apparently view count is in a script. String because it's all alphanumeric crap\n",
    "    \n",
    "    views = []\n",
    "    \n",
    "    for line in scripts:\n",
    "        m = re.search('view_count(.+?),', line)   #this was picked up from stackexchange, very handy\n",
    "        if m:\n",
    "            found = m.group(1)\n",
    "            views.append(found)\n",
    "    vcount = views[0]\n",
    "    vstr = vcount.strip('\\\":\\'').split()\n",
    "    count = int(vstr[0])  #convert the string into an integer\n",
    "    \n",
    "    #timestamp\n",
    "    d = dt.datetime.now()    \n",
    "    timestamp = dt.datetime.strftime(d, '%H:%M:%S')\n",
    "    datestamp = dt.datetime.strftime(d, '%m/%d/%y')\n",
    "\n",
    "    #Views, Date, Time are distinct columns\n",
    "    dater = (count,datestamp,timestamp)\n",
    "    data = list(dater)\n",
    "    \n",
    "    \n",
    "\n",
    "    csv_writer(data,'4minute-Crazy.csv')\n",
    "    print('Iteration complete:',datestamp,timestamp)"
   ]
  },
  {
   "cell_type": "code",
   "execution_count": null,
   "metadata": {
    "collapsed": false
   },
   "outputs": [],
   "source": [
    "boop = BlockingScheduler()\n",
    "boop.add_job(view_extractor, 'interval', seconds=15)\n",
    "boop.start()"
   ]
  },
  {
   "cell_type": "code",
   "execution_count": null,
   "metadata": {
    "collapsed": true
   },
   "outputs": [],
   "source": []
  }
 ],
 "metadata": {
  "kernelspec": {
   "display_name": "Python 2",
   "language": "python",
   "name": "python2"
  },
  "language_info": {
   "codemirror_mode": {
    "name": "ipython",
    "version": 2
   },
   "file_extension": ".py",
   "mimetype": "text/x-python",
   "name": "python",
   "nbconvert_exporter": "python",
   "pygments_lexer": "ipython2",
   "version": "2.7.13"
  }
 },
 "nbformat": 4,
 "nbformat_minor": 2
}
